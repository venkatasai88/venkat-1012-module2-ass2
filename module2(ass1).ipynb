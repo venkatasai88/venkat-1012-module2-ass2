{
 "cells": [
  {
   "cell_type": "markdown",
   "metadata": {},
   "source": [
    "### 1. take two inputs from the user and check whether they are equal"
   ]
  },
  {
   "cell_type": "code",
   "execution_count": 2,
   "metadata": {},
   "outputs": [
    {
     "name": "stdout",
     "output_type": "stream",
     "text": [
      "enter the first number:12\n",
      "enter the second number:12\n",
      "both inputs are equal\n"
     ]
    }
   ],
   "source": [
    "a=input(\"enter the first number:\")\n",
    "b=input(\"enter the second number:\")\n",
    "if a==b:\n",
    "    print(\"both inputs are equal\")\n",
    "else:\n",
    "    print(\"inputs are not equal\")"
   ]
  },
  {
   "cell_type": "code",
   "execution_count": 3,
   "metadata": {},
   "outputs": [
    {
     "name": "stdout",
     "output_type": "stream",
     "text": [
      "enter the first number:32\n",
      "enter the second number:12\n",
      "inputs are not equal\n"
     ]
    }
   ],
   "source": [
    "a=input(\"enter the first number:\")\n",
    "b=input(\"enter the second number:\")\n",
    "if a==b:\n",
    "    print(\"both inputs are equal\")\n",
    "else:\n",
    "    print(\"inputs are not equal\")"
   ]
  },
  {
   "cell_type": "markdown",
   "metadata": {},
   "source": [
    "### 2.take 3 inputs and check all are equal,any of two are equal( use and or)"
   ]
  },
  {
   "cell_type": "code",
   "execution_count": 4,
   "metadata": {},
   "outputs": [
    {
     "name": "stdout",
     "output_type": "stream",
     "text": [
      "enter 1st number:10\n",
      "enter 2nd number:10\n",
      "enter 3rd number:10\n",
      "all are equal True\n",
      "any of two are equal True\n"
     ]
    }
   ],
   "source": [
    "n1=int(input(\"enter 1st number:\"))\n",
    "n2=int(input(\"enter 2nd number:\"))\n",
    "n3=int(input(\"enter 3rd number:\"))\n",
    "all= n1 == n2 and n2 == n3 and n3==n1\n",
    "print(\"all are equal\",all)\n",
    "any= n1 == n2 or n2 ==n3 or n3==n1\n",
    "print(\"any of two are equal\",any)"
   ]
  },
  {
   "cell_type": "markdown",
   "metadata": {},
   "source": [
    "### 3.take two numbers and check whether the sum is greater than 5, less than 5 or equal to 5"
   ]
  },
  {
   "cell_type": "code",
   "execution_count": 8,
   "metadata": {},
   "outputs": [
    {
     "name": "stdout",
     "output_type": "stream",
     "text": [
      "enter number:3\n",
      " enter number5\n",
      "sum is greater than 5 True\n",
      "sum is less than 5 False\n",
      "sum is equal to  5 False\n"
     ]
    }
   ],
   "source": [
    "a= int(input(\"enter number:\"))\n",
    "b=int(input(\" enter number\"))\n",
    "sum=a+b\n",
    "print(\"sum is greater than 5\",sum>5)\n",
    "print(\"sum is less than 5\",sum<5)\n",
    "print(\"sum is equal to  5\",sum==5)"
   ]
  },
  {
   "cell_type": "markdown",
   "metadata": {},
   "source": [
    "### 4.suppose passing marks of a subject is 35.take input from the user and check whether it is greater than passing marks or not"
   ]
  },
  {
   "cell_type": "code",
   "execution_count": 9,
   "metadata": {},
   "outputs": [
    {
     "name": "stdout",
     "output_type": "stream",
     "text": [
      "enter marks:50\n",
      "marks is greater than passing marks True\n"
     ]
    }
   ],
   "source": [
    "pm=35\n",
    "marks=int(input(\"enter marks:\"))\n",
    "print(\"marks is greater than passing marks\",marks>pm)"
   ]
  },
  {
   "cell_type": "markdown",
   "metadata": {},
   "source": [
    "### 5.python program to find max of three numbers"
   ]
  },
  {
   "cell_type": "code",
   "execution_count": 10,
   "metadata": {},
   "outputs": [
    {
     "name": "stdout",
     "output_type": "stream",
     "text": [
      "27\n"
     ]
    }
   ],
   "source": [
    "def maximum(a,b,c):\n",
    "    if (a >= b) and (a >= c):\n",
    "        largest =a\n",
    "    elif (b >= a) and (b >= c):\n",
    "        largest =b\n",
    "    else:\n",
    "        largest=c\n",
    "    return largest\n",
    "a=15\n",
    "b=12\n",
    "c=27\n",
    "print(maximum( a , b, c))"
   ]
  },
  {
   "cell_type": "code",
   "execution_count": null,
   "metadata": {},
   "outputs": [],
   "source": []
  }
 ],
 "metadata": {
  "kernelspec": {
   "display_name": "Python 3",
   "language": "python",
   "name": "python3"
  },
  "language_info": {
   "codemirror_mode": {
    "name": "ipython",
    "version": 3
   },
   "file_extension": ".py",
   "mimetype": "text/x-python",
   "name": "python",
   "nbconvert_exporter": "python",
   "pygments_lexer": "ipython3",
   "version": "3.7.4"
  }
 },
 "nbformat": 4,
 "nbformat_minor": 2
}
